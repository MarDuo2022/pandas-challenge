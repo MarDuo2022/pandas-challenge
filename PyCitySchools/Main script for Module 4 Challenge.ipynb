{
 "cells": [
  {
   "cell_type": "code",
   "execution_count": 52,
   "id": "27705047",
   "metadata": {},
   "outputs": [],
   "source": [
    "# Dependencies and Setup\n",
    "import pandas as pd\n",
    "\n",
    "# File to Load (Remember to Change These)\n",
    "school_data_to_load = \"Resources/schools_complete.csv\"\n",
    "student_data_to_load = \"Resources/students_complete.csv\"\n",
    "\n",
    "# Read School and Student Data File and store into Pandas DataFrames\n",
    "school_data = pd.read_csv(school_data_to_load)\n",
    "student_data = pd.read_csv(student_data_to_load)\n",
    "\n",
    "# Combine the data into a single dataset.  \n",
    "school_data_complete = pd.merge(student_data, school_data, how=\"left\", on=[\"school_name\", \"school_name\"])"
   ]
  },
  {
   "cell_type": "markdown",
   "id": "e55d6d04",
   "metadata": {},
   "source": [
    "## Local Government Area Summary\n",
    "\n",
    "* Calculate the total number of schools\n",
    "\n",
    "* Calculate the total number of students\n",
    "\n",
    "* Calculate the total budget\n",
    "\n",
    "* Calculate the average maths score \n",
    "\n",
    "* Calculate the average reading score\n",
    "\n",
    "* Calculate the percentage of students with a passing maths score (50 or greater)\n",
    "\n",
    "* Calculate the percentage of students with a passing reading score (50 or greater)\n",
    "\n",
    "* Calculate the percentage of students who passed maths **and** reading (% Overall Passing)\n",
    "\n",
    "* Create a dataframe to hold the above results\n",
    "\n",
    "* Optional: give the displayed data cleaner formatting"
   ]
  },
  {
   "cell_type": "code",
   "execution_count": 70,
   "id": "678ae64d",
   "metadata": {},
   "outputs": [
    {
     "data": {
      "text/html": [
       "<div>\n",
       "<style scoped>\n",
       "    .dataframe tbody tr th:only-of-type {\n",
       "        vertical-align: middle;\n",
       "    }\n",
       "\n",
       "    .dataframe tbody tr th {\n",
       "        vertical-align: top;\n",
       "    }\n",
       "\n",
       "    .dataframe thead th {\n",
       "        text-align: right;\n",
       "    }\n",
       "</style>\n",
       "<table border=\"1\" class=\"dataframe\">\n",
       "  <thead>\n",
       "    <tr style=\"text-align: right;\">\n",
       "      <th></th>\n",
       "      <th>Total Schools</th>\n",
       "      <th>Total Students</th>\n",
       "      <th>Total Budget</th>\n",
       "      <th>Average Maths Score</th>\n",
       "      <th>Average Reading Score</th>\n",
       "      <th>% Passing Maths</th>\n",
       "      <th>% Passing Reading</th>\n",
       "      <th>% Overall Passing</th>\n",
       "    </tr>\n",
       "  </thead>\n",
       "  <tbody>\n",
       "    <tr>\n",
       "      <th>0</th>\n",
       "      <td>15</td>\n",
       "      <td>39,170</td>\n",
       "      <td>$24,649,428.00</td>\n",
       "      <td>70.338192</td>\n",
       "      <td>69.980138</td>\n",
       "      <td>86.078632</td>\n",
       "      <td>84.426857</td>\n",
       "      <td>72.808272</td>\n",
       "    </tr>\n",
       "  </tbody>\n",
       "</table>\n",
       "</div>"
      ],
      "text/plain": [
       "   Total Schools Total Students    Total Budget  Average Maths Score  \\\n",
       "0             15         39,170  $24,649,428.00            70.338192   \n",
       "\n",
       "   Average Reading Score  % Passing Maths  % Passing Reading  \\\n",
       "0              69.980138        86.078632          84.426857   \n",
       "\n",
       "   % Overall Passing  \n",
       "0          72.808272  "
      ]
     },
     "execution_count": 70,
     "metadata": {},
     "output_type": "execute_result"
    }
   ],
   "source": [
    "#Calculate the total number of schools\n",
    "total_school = len(school_data_complete[\"school_name\"].unique())\n",
    "#Calculate the total number of students\n",
    "total_student = len(school_data_complete[\"Student ID\"].unique())\n",
    "#Calculate the total budget\n",
    "total_budget = school_data[\"budget\"].sum()\n",
    "#Calculate the average maths score\n",
    "average_maths = school_data_complete[\"maths_score\"].mean()\n",
    "#Calculate the average reading score\n",
    "average_reading = school_data_complete[\"reading_score\"].mean()\n",
    "\n",
    "#Total number of students\n",
    "total=school_data_complete[\"maths_score\"].count()\n",
    "#Calculate the percentage of students with a passing maths score (50 or greater)\n",
    "pass_maths_df = school_data_complete.loc[(school_data_complete[\"maths_score\"]>=50),[\"maths_score\",\"reading_score\"]]\n",
    "passmaths=pass_maths_df[\"maths_score\"].count()\n",
    "pcpassmaths=passmaths/total*100\n",
    "#Calculate the percentage of students with a passing reading score (50 or greater)\n",
    "passreading_df = school_data_complete.loc[(school_data_complete[\"reading_score\"]>=50),:]\n",
    "passreading=passreading_df[\"reading_score\"].count()\n",
    "pcpassreading=passreading/total*100\n",
    "#Calculate the percentage of students who passed maths and reading (% Overall Passing)\n",
    "pass_maths_reading_df=school_data_complete.loc[(school_data_complete[\"maths_score\"]>=50)&(school_data_complete[\"reading_score\"]>=50),:]\n",
    "pcOverallPassing=pass_maths_reading_df[\"reading_score\"].count()/total*100\n",
    "\n",
    "#Create a dataframe to hold the above results\n",
    "LocalGovArea_Summary = pd.DataFrame({\"Total Schools\":[total_school],\n",
    "                                    \"Total Students\":[total_student],\n",
    "                                    \"Total Budget\":[total_budget],\n",
    "                                    \"Average Maths Score\":[average_maths],\n",
    "                                    \"Average Reading Score\":[average_reading],\n",
    "                                    \"% Passing Maths\":[pcpassmaths],\n",
    "                                    \"% Passing Reading\":[pcpassreading],\n",
    "                                    \"% Overall Passing\":[pcOverallPassing]})\n",
    "\n",
    "#Optional: give the displayed data cleaner formatting\n",
    "LocalGovArea_Summary.loc[:,\"Total Budget\"]=\"$\" + LocalGovArea_Summary[\"Total Budget\"].map('{:,.2f}'.format)\n",
    "LocalGovArea_Summary.loc[:,\"Total Students\"]=LocalGovArea_Summary[\"Total Students\"].map('{:,.0f}'.format)\n",
    "\n",
    "LocalGovArea_Summary"
   ]
  },
  {
   "cell_type": "markdown",
   "id": "5f44e5ab",
   "metadata": {},
   "source": [
    "## School Summary\n",
    "* Create an overview table that summarises key metrics about each school, including:\n",
    "  * School Name\n",
    "  * School Type\n",
    "  * Total Students\n",
    "  * Total School Budget\n",
    "  * Per Student Budget\n",
    "  * Average Maths Score\n",
    "  * Average Reading Score\n",
    "  * % Passing Maths\n",
    "  * % Passing Reading\n",
    "  * % Overall Passing (The percentage of students that passed maths **and** reading.)\n",
    "  \n",
    "* Create a dataframe to hold the above results"
   ]
  },
  {
   "cell_type": "code",
   "execution_count": null,
   "id": "9489567a",
   "metadata": {},
   "outputs": [],
   "source": [
    "school_data_complete"
   ]
  }
 ],
 "metadata": {
  "kernelspec": {
   "display_name": "Python 3 (ipykernel)",
   "language": "python",
   "name": "python3"
  },
  "language_info": {
   "codemirror_mode": {
    "name": "ipython",
    "version": 3
   },
   "file_extension": ".py",
   "mimetype": "text/x-python",
   "name": "python",
   "nbconvert_exporter": "python",
   "pygments_lexer": "ipython3",
   "version": "3.7.7"
  }
 },
 "nbformat": 4,
 "nbformat_minor": 5
}
